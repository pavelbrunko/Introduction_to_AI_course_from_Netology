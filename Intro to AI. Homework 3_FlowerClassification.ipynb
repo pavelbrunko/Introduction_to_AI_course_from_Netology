{
  "cells": [
    {
      "cell_type": "markdown",
      "metadata": {
        "id": "PJHy7vziiPnC"
      },
      "source": [
        "### Let's continue working with [Dataset](https://www.kaggle.com/alexmamaev/flowers-recognition ) for the classification of flowers (tulip, chamomile, sunflower, rose, dandelion)."
      ]
    },
    {
      "cell_type": "markdown",
      "metadata": {
        "id": "eRteSKZ5VKai"
      },
      "source": [
        "# Preparing a dataset and functions for training"
      ]
    },
    {
      "cell_type": "markdown",
      "metadata": {
        "id": "bXtAgtr2V3u6"
      },
      "source": [
        "Loading libraries. Fixing random.seed for reproducibility"
      ]
    },
    {
      "cell_type": "code",
      "execution_count": 32,
      "metadata": {
        "colab": {
          "base_uri": "https://localhost:8080/"
        },
        "id": "kvM84NDjxCnK",
        "outputId": "b14065d0-777c-435c-92d3-ff73ebaa5ec2"
      },
      "outputs": [
        {
          "data": {
            "text/plain": [
              "<torch._C.Generator at 0x11f3284f0>"
            ]
          },
          "execution_count": 32,
          "metadata": {},
          "output_type": "execute_result"
        }
      ],
      "source": [
        "import numpy as np # linear algebra\n",
        "import os\n",
        "import torch\n",
        "import torchvision\n",
        "from torchvision.datasets.utils import download_url\n",
        "from torch.utils.data import random_split\n",
        "from torchvision.datasets import ImageFolder\n",
        "from torchvision import transforms\n",
        "from torchvision.transforms import ToTensor\n",
        "from torch.utils.data.dataloader import DataLoader\n",
        "import torch.nn as nn\n",
        "import torch.nn.functional as F\n",
        "import random\n",
        "from tqdm import tqdm\n",
        "import matplotlib.pyplot as plt\n",
        "\n",
        "random.seed(0)\n",
        "torch.manual_seed(0)"
      ]
    },
    {
      "cell_type": "markdown",
      "metadata": {
        "id": "YjYDp6nXWWmQ"
      },
      "source": [
        "We choose what we will do calculations on - CPU or GPU (cuda)"
      ]
    },
    {
      "cell_type": "code",
      "execution_count": 18,
      "metadata": {
        "colab": {
          "base_uri": "https://localhost:8080/"
        },
        "id": "FzyQGtNfzMsI",
        "outputId": "e5885321-b1e6-4ec5-ac7d-d9d525f5d75e"
      },
      "outputs": [
        {
          "name": "stdout",
          "output_type": "stream",
          "text": [
            "cpu\n"
          ]
        }
      ],
      "source": [
        "device = 'cuda' if torch.cuda.is_available() else 'cpu'\n",
        "print(device)"
      ]
    },
    {
      "cell_type": "code",
      "execution_count": 19,
      "metadata": {
        "id": "aV-txOlLyJhK"
      },
      "outputs": [],
      "source": [
        "prepare_imgs = torchvision.transforms.Compose(\n",
        "    [\n",
        "        torchvision.transforms.Resize((224, 224)), #we bring the pictures to the same size\n",
        "        torchvision.transforms.ToTensor(), #packing them into a tensor\n",
        "        torchvision.transforms.Normalize(\n",
        "            mean=[0.485, 0.456, 0.406], std=[0.229, 0.224, 0.225] #normalize images by channels\n",
        "        ),\n",
        "    ]\n",
        ")\n",
        "#setting the dataset. Labels - folder names:\n",
        "dataset = ImageFolder('/Users/pavel/Desktop/flowers', transform=prepare_imgs)"
      ]
    },
    {
      "cell_type": "code",
      "execution_count": 20,
      "metadata": {
        "colab": {
          "base_uri": "https://localhost:8080/"
        },
        "id": "BcuefCcB8iwi",
        "outputId": "9b711b2a-ab4a-4aee-b66f-8143c696aadc"
      },
      "outputs": [
        {
          "data": {
            "text/plain": [
              "('/Users/pavel/Desktop/flowers/daisy/10172379554_b296050f82_n.jpg', 0)"
            ]
          },
          "execution_count": 20,
          "metadata": {},
          "output_type": "execute_result"
        }
      ],
      "source": [
        "dataset.imgs[2]"
      ]
    },
    {
      "cell_type": "code",
      "execution_count": 21,
      "metadata": {
        "id": "u_DuonGn5HVb"
      },
      "outputs": [],
      "source": [
        "class ValueMeter(object):\n",
        "  \"\"\"\n",
        "  Auxiliary class to track loss and metric\n",
        "  \"\"\"\n",
        "  def __init__(self):\n",
        "      self.sum = 0\n",
        "      self.total = 0\n",
        "\n",
        "  def add(self, value, n):\n",
        "      self.sum += value*n\n",
        "      self.total += n\n",
        "\n",
        "  def value(self):\n",
        "      return self.sum/self.total\n",
        "\n",
        "def log(mode, epoch, loss_meter, accuracy_meter, best_perf=None):\n",
        "  print(\n",
        "      f\"[{mode}] Epoch: {epoch:0.2f}. \"\n",
        "      f\"Loss: {loss_meter.value():.2f}. \"\n",
        "      f\"Accuracy: {100*accuracy_meter.value():.2f}% \", end=\"\\n\")\n",
        "\n",
        "  if best_perf:\n",
        "      print(f\"[best: {best_perf:0.2f}]%\", end=\"\")\n"
      ]
    },
    {
      "cell_type": "markdown",
      "metadata": {
        "id": "JP0M3cL8ZDd3"
      },
      "source": [
        "### Setting parameters and function for training. Splitting the dataset into train/validation"
      ]
    },
    {
      "cell_type": "code",
      "execution_count": 22,
      "metadata": {
        "id": "iwhX2vdquink"
      },
      "outputs": [],
      "source": [
        "batch_size = 32 # batch size\n",
        "lr = 0.001 # learning rate"
      ]
    },
    {
      "cell_type": "markdown",
      "metadata": {
        "id": "IG0zjMWDYu32"
      },
      "source": [
        "Splitting the dataset into train and validation\n",
        "\n",
        "Setting data loaders - objects for iterative loading of data and labels for training and validation"
      ]
    },
    {
      "cell_type": "code",
      "execution_count": 23,
      "metadata": {
        "colab": {
          "base_uri": "https://localhost:8080/"
        },
        "id": "D2AW1YTupITs",
        "outputId": "a951d05d-aa6c-40d4-8482-e944b9388c4a"
      },
      "outputs": [
        {
          "name": "stdout",
          "output_type": "stream",
          "text": [
            "The size of the training and validation dataset:  3317 1000\n"
          ]
        }
      ],
      "source": [
        "train_set, val_set = torch.utils.data.random_split(dataset, [len(dataset)-1000, 1000])\n",
        "print('The size of the training and validation dataset: ', len(train_set), len(val_set))\n",
        "loaders = {'training': DataLoader(train_set, batch_size, pin_memory=True,num_workers=2, shuffle=True),\n",
        "           'validation':DataLoader(val_set, batch_size, pin_memory=True,num_workers=2, shuffle=False)}"
      ]
    },
    {
      "cell_type": "markdown",
      "metadata": {
        "id": "NuiJKWrYZZgb"
      },
      "source": [
        "Function for calculating Accuracy"
      ]
    },
    {
      "cell_type": "code",
      "execution_count": 24,
      "metadata": {
        "id": "xm15u4TsDcIY"
      },
      "outputs": [],
      "source": [
        "def accuracy(outputs, labels):\n",
        "    _, preds = torch.max(outputs, dim=1)\n",
        "    return torch.tensor(torch.sum(preds == labels).item() / len(preds))"
      ]
    },
    {
      "cell_type": "markdown",
      "metadata": {
        "id": "MzW60Io-riGV"
      },
      "source": [
        "Function for training and validation of the model"
      ]
    },
    {
      "cell_type": "code",
      "execution_count": 25,
      "metadata": {
        "id": "hdlXyjEGhU4W"
      },
      "outputs": [],
      "source": [
        "def trainval(model, loaders, optimizer, epochs=10):\n",
        "    \"\"\"\n",
        "    model: the model we are going to train\n",
        "    loaders: dictionary with dataloaders for training and validation\n",
        "    optimizer: optimizer\n",
        "    epochs: the number of training epochs (how many times will we go through the entire dataset)\n",
        "    \"\"\"\n",
        "    loss_meter = {'training': ValueMeter(), 'validation': ValueMeter()}\n",
        "    accuracy_meter = {'training': ValueMeter(), 'validation': ValueMeter()}\n",
        "\n",
        "    loss_track = {'training': [], 'validation': []}\n",
        "    accuracy_track = {'training': [], 'validation': []}\n",
        "\n",
        "    for epoch in range(epochs): # iterations by epoch\n",
        "        for mode in ['training', 'validation']: # training - validation\n",
        "            # calculating the gradient only on trainning:\n",
        "            with torch.set_grad_enabled(mode == 'training'):\n",
        "                # depending on the phase, we switch the model to the desired mode:\n",
        "                model.train() if mode == 'training' else model.eval()\n",
        "                for imgs, labels in tqdm(loaders[mode]):\n",
        "                    imgs = imgs.to(device) # sending tensor to CPU/GPU\n",
        "                    labels = labels.to(device)\n",
        "                    bs = labels.shape[0]  # batch size (different for the last batch in loader)\n",
        "\n",
        "                    preds = model(imgs) # forward pass - we run the tensor with pictures through the model\n",
        "                    loss = F.cross_entropy(preds, labels) # calculating the loss function\n",
        "                    acc = accuracy(preds, labels) # calculating metrics\n",
        "\n",
        "                    # saving loss and accuracy for batch\n",
        "                    loss_meter[mode].add(loss.item(), bs)\n",
        "                    accuracy_meter[mode].add(acc, bs)\n",
        "\n",
        "                    # if we are in the learning phase\n",
        "                    if mode == 'training':\n",
        "                        optimizer.zero_grad() # zero the previous gradient \n",
        "                        loss.backward() # doing backward pass (calculating the gradient)\n",
        "                        optimizer.step() # update weights\n",
        "            # at the end of the phase, we output the values of loss and accuracy\n",
        "            log(mode, epoch, loss_meter[mode], accuracy_meter[mode])\n",
        "\n",
        "            # saving results for every epoch\n",
        "            loss_track[mode].append(loss_meter[mode].value())\n",
        "            accuracy_track[mode].append(accuracy_meter[mode].value())\n",
        "    return loss_track, accuracy_track"
      ]
    },
    {
      "cell_type": "code",
      "execution_count": 26,
      "metadata": {
        "id": "KJFCbGkObf_4"
      },
      "outputs": [],
      "source": [
        "def set_parameter_requires_grad(model):\n",
        "  \"\"\"\n",
        "  Function fot freezing model weights\n",
        "  \"\"\"\n",
        "  for param in model.parameters():\n",
        "    param.requires_grad = False"
      ]
    },
    {
      "cell_type": "markdown",
      "metadata": {
        "id": "-rtKZrQF0oma"
      },
      "source": [
        "# Homework"
      ]
    },
    {
      "cell_type": "markdown",
      "metadata": {
        "id": "27qiLUtR011m"
      },
      "source": [
        "In the homework, we will try to teach another convolutional architecture.\n",
        "\n",
        "1) Analyze in more detail the code above (or the code from practice, they are identical). Run all the code in this laptop.\n",
        "\n",
        "\n",
        "2) See how [convolutional network models are set in PyTorch](https://pytorch.org/vision/stable/models.html ), select one model from the list:\n",
        "\n",
        "*   alexnet\n",
        "*   vgg16\n",
        "*   mobilenet_v2\n",
        "*   mobilenet_v3_small\n",
        "*   densenet\n",
        "\n",
        "3) Retrain the selected model for the color classification task, by analogy with how we retrained resnet18 in class. To do this, replace ____ in the cells below with the code. Somewhere it is necessary to insert the necessary variable, somewhere to register a constant. The main thing is not to be scared! A similar code can be found in a laptop with practice ;)\n",
        "\n",
        "4) If you are interested, read more about these architectures. You can read [here (in English)](https://medium.com/@fransiska26/the-differences-between-inception-resnet-and-mobilenet-e97736a709b0 ) or [here (in Russian)](https://habr.com/ru/company/nix/blog/430524/)"
      ]
    },
    {
      "cell_type": "code",
      "execution_count": 27,
      "metadata": {
        "id": "fZGKQ77DqT31"
      },
      "outputs": [
        {
          "data": {
            "text/plain": [
              "AlexNet(\n",
              "  (features): Sequential(\n",
              "    (0): Conv2d(3, 64, kernel_size=(11, 11), stride=(4, 4), padding=(2, 2))\n",
              "    (1): ReLU(inplace=True)\n",
              "    (2): MaxPool2d(kernel_size=3, stride=2, padding=0, dilation=1, ceil_mode=False)\n",
              "    (3): Conv2d(64, 192, kernel_size=(5, 5), stride=(1, 1), padding=(2, 2))\n",
              "    (4): ReLU(inplace=True)\n",
              "    (5): MaxPool2d(kernel_size=3, stride=2, padding=0, dilation=1, ceil_mode=False)\n",
              "    (6): Conv2d(192, 384, kernel_size=(3, 3), stride=(1, 1), padding=(1, 1))\n",
              "    (7): ReLU(inplace=True)\n",
              "    (8): Conv2d(384, 256, kernel_size=(3, 3), stride=(1, 1), padding=(1, 1))\n",
              "    (9): ReLU(inplace=True)\n",
              "    (10): Conv2d(256, 256, kernel_size=(3, 3), stride=(1, 1), padding=(1, 1))\n",
              "    (11): ReLU(inplace=True)\n",
              "    (12): MaxPool2d(kernel_size=3, stride=2, padding=0, dilation=1, ceil_mode=False)\n",
              "  )\n",
              "  (avgpool): AdaptiveAvgPool2d(output_size=(6, 6))\n",
              "  (classifier): Sequential(\n",
              "    (0): Dropout(p=0.5, inplace=False)\n",
              "    (1): Linear(in_features=9216, out_features=4096, bias=True)\n",
              "    (2): ReLU(inplace=True)\n",
              "    (3): Dropout(p=0.5, inplace=False)\n",
              "    (4): Linear(in_features=4096, out_features=4096, bias=True)\n",
              "    (5): ReLU(inplace=True)\n",
              "    (6): Linear(in_features=4096, out_features=1000, bias=True)\n",
              "  )\n",
              ")"
            ]
          },
          "execution_count": 27,
          "metadata": {},
          "output_type": "execute_result"
        }
      ],
      "source": [
        "# Choose the model from the list of available in PyTorch models\n",
        "# Don't forget to tag that the model could be pre-trained!\n",
        "model = torchvision.models.alexnet(pretrained=True)\n",
        "model"
      ]
    },
    {
      "cell_type": "code",
      "execution_count": 28,
      "metadata": {
        "id": "0zVgqf7x4aOo"
      },
      "outputs": [],
      "source": [
        "# pass the model to the function to \"freeze\" the gradient\n",
        "def set_parameter_requires_grad(model):\n",
        "  for param in model.parameters():\n",
        "    param.requires_grad = False\n",
        "\n",
        "set_parameter_requires_grad(model)"
      ]
    },
    {
      "cell_type": "code",
      "execution_count": 29,
      "metadata": {
        "id": "wXqwU5Rd5DYs"
      },
      "outputs": [],
      "source": [
        "# model.fc = nn.Linear(4096, 5)# Changing the last layer of the model\n",
        "model.classifier[6] = nn.Linear(model.classifier[6].in_features, 5)"
      ]
    },
    {
      "cell_type": "code",
      "execution_count": 30,
      "metadata": {
        "id": "IaquxdRWJ_LK"
      },
      "outputs": [
        {
          "name": "stdout",
          "output_type": "stream",
          "text": [
            "classifier.6.weight\n",
            "classifier.6.bias\n"
          ]
        }
      ],
      "source": [
        "# Let's check if everything worked correctly, output the weights that will be trained\n",
        "for name, param in model.named_parameters():\n",
        "    if param.requires_grad:\n",
        "        print(name)"
      ]
    },
    {
      "cell_type": "code",
      "execution_count": 31,
      "metadata": {
        "id": "DTE0EUG9lh5g"
      },
      "outputs": [
        {
          "name": "stderr",
          "output_type": "stream",
          "text": [
            "100%|██████████| 104/104 [00:48<00:00,  2.15it/s]\n"
          ]
        },
        {
          "name": "stdout",
          "output_type": "stream",
          "text": [
            "[training] Epoch: 0.00. Loss: 0.58. Accuracy: 78.99% \n"
          ]
        },
        {
          "name": "stderr",
          "output_type": "stream",
          "text": [
            "100%|██████████| 32/32 [00:22<00:00,  1.45it/s]\n"
          ]
        },
        {
          "name": "stdout",
          "output_type": "stream",
          "text": [
            "[validation] Epoch: 0.00. Loss: 0.41. Accuracy: 86.40% \n"
          ]
        },
        {
          "name": "stderr",
          "output_type": "stream",
          "text": [
            "100%|██████████| 104/104 [00:52<00:00,  2.00it/s]\n"
          ]
        },
        {
          "name": "stdout",
          "output_type": "stream",
          "text": [
            "[training] Epoch: 1.00. Loss: 0.45. Accuracy: 83.51% \n"
          ]
        },
        {
          "name": "stderr",
          "output_type": "stream",
          "text": [
            "100%|██████████| 32/32 [00:23<00:00,  1.37it/s]\n"
          ]
        },
        {
          "name": "stdout",
          "output_type": "stream",
          "text": [
            "[validation] Epoch: 1.00. Loss: 0.42. Accuracy: 86.00% \n"
          ]
        },
        {
          "name": "stderr",
          "output_type": "stream",
          "text": [
            "100%|██████████| 104/104 [00:45<00:00,  2.28it/s]\n"
          ]
        },
        {
          "name": "stdout",
          "output_type": "stream",
          "text": [
            "[training] Epoch: 2.00. Loss: 0.38. Accuracy: 86.09% \n"
          ]
        },
        {
          "name": "stderr",
          "output_type": "stream",
          "text": [
            "100%|██████████| 32/32 [00:22<00:00,  1.44it/s]\n"
          ]
        },
        {
          "name": "stdout",
          "output_type": "stream",
          "text": [
            "[validation] Epoch: 2.00. Loss: 0.42. Accuracy: 86.10% \n"
          ]
        },
        {
          "name": "stderr",
          "output_type": "stream",
          "text": [
            "100%|██████████| 104/104 [00:48<00:00,  2.16it/s]\n"
          ]
        },
        {
          "name": "stdout",
          "output_type": "stream",
          "text": [
            "[training] Epoch: 3.00. Loss: 0.34. Accuracy: 87.78% \n"
          ]
        },
        {
          "name": "stderr",
          "output_type": "stream",
          "text": [
            "100%|██████████| 32/32 [00:23<00:00,  1.39it/s]\n"
          ]
        },
        {
          "name": "stdout",
          "output_type": "stream",
          "text": [
            "[validation] Epoch: 3.00. Loss: 0.42. Accuracy: 86.35% \n"
          ]
        },
        {
          "name": "stderr",
          "output_type": "stream",
          "text": [
            "100%|██████████| 104/104 [00:42<00:00,  2.43it/s]\n"
          ]
        },
        {
          "name": "stdout",
          "output_type": "stream",
          "text": [
            "[training] Epoch: 4.00. Loss: 0.31. Accuracy: 88.88% \n"
          ]
        },
        {
          "name": "stderr",
          "output_type": "stream",
          "text": [
            "100%|██████████| 32/32 [00:21<00:00,  1.48it/s]\n"
          ]
        },
        {
          "name": "stdout",
          "output_type": "stream",
          "text": [
            "[validation] Epoch: 4.00. Loss: 0.42. Accuracy: 86.54% \n"
          ]
        },
        {
          "name": "stderr",
          "output_type": "stream",
          "text": [
            "100%|██████████| 104/104 [00:41<00:00,  2.52it/s]\n"
          ]
        },
        {
          "name": "stdout",
          "output_type": "stream",
          "text": [
            "[training] Epoch: 5.00. Loss: 0.28. Accuracy: 89.53% \n"
          ]
        },
        {
          "name": "stderr",
          "output_type": "stream",
          "text": [
            "100%|██████████| 32/32 [00:21<00:00,  1.47it/s]\n"
          ]
        },
        {
          "name": "stdout",
          "output_type": "stream",
          "text": [
            "[validation] Epoch: 5.00. Loss: 0.42. Accuracy: 86.62% \n"
          ]
        },
        {
          "name": "stderr",
          "output_type": "stream",
          "text": [
            "100%|██████████| 104/104 [00:42<00:00,  2.46it/s]\n"
          ]
        },
        {
          "name": "stdout",
          "output_type": "stream",
          "text": [
            "[training] Epoch: 6.00. Loss: 0.26. Accuracy: 90.26% \n"
          ]
        },
        {
          "name": "stderr",
          "output_type": "stream",
          "text": [
            "100%|██████████| 32/32 [00:21<00:00,  1.48it/s]\n"
          ]
        },
        {
          "name": "stdout",
          "output_type": "stream",
          "text": [
            "[validation] Epoch: 6.00. Loss: 0.42. Accuracy: 86.63% \n"
          ]
        },
        {
          "name": "stderr",
          "output_type": "stream",
          "text": [
            "100%|██████████| 104/104 [00:43<00:00,  2.40it/s]\n"
          ]
        },
        {
          "name": "stdout",
          "output_type": "stream",
          "text": [
            "[training] Epoch: 7.00. Loss: 0.25. Accuracy: 90.85% \n"
          ]
        },
        {
          "name": "stderr",
          "output_type": "stream",
          "text": [
            "100%|██████████| 32/32 [00:21<00:00,  1.48it/s]\n"
          ]
        },
        {
          "name": "stdout",
          "output_type": "stream",
          "text": [
            "[validation] Epoch: 7.00. Loss: 0.43. Accuracy: 86.68% \n"
          ]
        },
        {
          "name": "stderr",
          "output_type": "stream",
          "text": [
            "100%|██████████| 104/104 [00:41<00:00,  2.49it/s]\n"
          ]
        },
        {
          "name": "stdout",
          "output_type": "stream",
          "text": [
            "[training] Epoch: 8.00. Loss: 0.23. Accuracy: 91.41% \n"
          ]
        },
        {
          "name": "stderr",
          "output_type": "stream",
          "text": [
            "100%|██████████| 32/32 [00:21<00:00,  1.49it/s]\n"
          ]
        },
        {
          "name": "stdout",
          "output_type": "stream",
          "text": [
            "[validation] Epoch: 8.00. Loss: 0.43. Accuracy: 86.62% \n"
          ]
        },
        {
          "name": "stderr",
          "output_type": "stream",
          "text": [
            "100%|██████████| 104/104 [00:41<00:00,  2.50it/s]\n"
          ]
        },
        {
          "name": "stdout",
          "output_type": "stream",
          "text": [
            "[training] Epoch: 9.00. Loss: 0.22. Accuracy: 91.89% \n"
          ]
        },
        {
          "name": "stderr",
          "output_type": "stream",
          "text": [
            "100%|██████████| 32/32 [00:21<00:00,  1.48it/s]"
          ]
        },
        {
          "name": "stdout",
          "output_type": "stream",
          "text": [
            "[validation] Epoch: 9.00. Loss: 0.43. Accuracy: 86.68% \n"
          ]
        },
        {
          "name": "stderr",
          "output_type": "stream",
          "text": [
            "\n"
          ]
        }
      ],
      "source": [
        "model.to(device) # send model to CPU/GPU\n",
        "optimizer = torch.optim.Adam(params = model.parameters()) # optimization algorithm \n",
        "loss_track, accuracy_track = trainval(model, loaders, optimizer, epochs=10) # we start training, set the number of epochs"
      ]
    },
    {
      "cell_type": "code",
      "execution_count": 33,
      "metadata": {},
      "outputs": [
        {
          "data": {
            "text/plain": [
              "<matplotlib.legend.Legend at 0x160ef0640>"
            ]
          },
          "execution_count": 33,
          "metadata": {},
          "output_type": "execute_result"
        },
        {
          "data": {
            "image/png": "[encoded data removed]",
            "text/plain": [
              "<Figure size 640x480 with 1 Axes>"
            ]
          },
          "metadata": {},
          "output_type": "display_data"
        }
      ],
      "source": [
        "plt.plot(accuracy_track['training'], label='training')\n",
        "plt.plot(accuracy_track['validation'], label='validation')\n",
        "plt.ylabel('accuracy')\n",
        "plt.xlabel('epoch')\n",
        "plt.grid()\n",
        "plt.legend()"
      ]
    }
  ],
  "metadata": {
    "accelerator": "GPU",
    "colab": {
      "provenance": []
    },
    "kernelspec": {
      "display_name": "Python 3",
      "name": "python3"
    },
    "language_info": {
      "codemirror_mode": {
        "name": "ipython",
        "version": 3
      },
      "file_extension": ".py",
      "mimetype": "text/x-python",
      "name": "python",
      "nbconvert_exporter": "python",
      "pygments_lexer": "ipython3",
      "version": "3.10.6"
    }
  },
  "nbformat": 4,
  "nbformat_minor": 0
}
